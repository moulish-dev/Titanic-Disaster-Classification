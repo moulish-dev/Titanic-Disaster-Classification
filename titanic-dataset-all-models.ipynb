{
 "cells": [
  {
   "cell_type": "code",
   "execution_count": 1,
   "id": "786aa34f",
   "metadata": {
    "_cell_guid": "b1076dfc-b9ad-4769-8c92-a6c4dae69d19",
    "_uuid": "8f2839f25d086af736a60e9eeb907d3b93b6e0e5",
    "execution": {
     "iopub.execute_input": "2024-11-22T17:39:32.820865Z",
     "iopub.status.busy": "2024-11-22T17:39:32.820482Z",
     "iopub.status.idle": "2024-11-22T17:39:33.726385Z",
     "shell.execute_reply": "2024-11-22T17:39:33.725207Z"
    },
    "papermill": {
     "duration": 0.914799,
     "end_time": "2024-11-22T17:39:33.728645",
     "exception": false,
     "start_time": "2024-11-22T17:39:32.813846",
     "status": "completed"
    },
    "tags": []
   },
   "outputs": [
    {
     "name": "stdout",
     "output_type": "stream",
     "text": [
      "/kaggle/input/titanic/train.csv\n",
      "/kaggle/input/titanic/test.csv\n",
      "/kaggle/input/titanic/gender_submission.csv\n"
     ]
    }
   ],
   "source": [
    "# This Python 3 environment comes with many helpful analytics libraries installed\n",
    "# It is defined by the kaggle/python Docker image: https://github.com/kaggle/docker-python\n",
    "# For example, here's several helpful packages to load\n",
    "\n",
    "import numpy as np # linear algebra\n",
    "import pandas as pd # data processing, CSV file I/O (e.g. pd.read_csv)\n",
    "\n",
    "# Input data files are available in the read-only \"../input/\" directory\n",
    "# For example, running this (by clicking run or pressing Shift+Enter) will list all files under the input directory\n",
    "\n",
    "import os\n",
    "for dirname, _, filenames in os.walk('/kaggle/input'):\n",
    "    for filename in filenames:\n",
    "        print(os.path.join(dirname, filename))\n",
    "\n",
    "# You can write up to 20GB to the current directory (/kaggle/working/) that gets preserved as output when you create a version using \"Save & Run All\" \n",
    "# You can also write temporary files to /kaggle/temp/, but they won't be saved outside of the current session"
   ]
  },
  {
   "cell_type": "markdown",
   "id": "8eabdfd9",
   "metadata": {
    "papermill": {
     "duration": 0.004102,
     "end_time": "2024-11-22T17:39:33.737489",
     "exception": false,
     "start_time": "2024-11-22T17:39:33.733387",
     "status": "completed"
    },
    "tags": []
   },
   "source": [
    "# Adding necessary Libraries"
   ]
  },
  {
   "cell_type": "code",
   "execution_count": 2,
   "id": "7ba336a7",
   "metadata": {
    "execution": {
     "iopub.execute_input": "2024-11-22T17:39:33.748453Z",
     "iopub.status.busy": "2024-11-22T17:39:33.747954Z",
     "iopub.status.idle": "2024-11-22T17:39:33.752717Z",
     "shell.execute_reply": "2024-11-22T17:39:33.751761Z"
    },
    "papermill": {
     "duration": 0.012936,
     "end_time": "2024-11-22T17:39:33.754730",
     "exception": false,
     "start_time": "2024-11-22T17:39:33.741794",
     "status": "completed"
    },
    "tags": []
   },
   "outputs": [],
   "source": [
    "import pandas as pd\n",
    "from IPython.display import display"
   ]
  },
  {
   "cell_type": "markdown",
   "id": "1485d557",
   "metadata": {
    "papermill": {
     "duration": 0.004247,
     "end_time": "2024-11-22T17:39:33.763446",
     "exception": false,
     "start_time": "2024-11-22T17:39:33.759199",
     "status": "completed"
    },
    "tags": []
   },
   "source": [
    "# Adding Titanic dataset"
   ]
  },
  {
   "cell_type": "code",
   "execution_count": 3,
   "id": "18403ee6",
   "metadata": {
    "execution": {
     "iopub.execute_input": "2024-11-22T17:39:33.773510Z",
     "iopub.status.busy": "2024-11-22T17:39:33.773142Z",
     "iopub.status.idle": "2024-11-22T17:39:33.808656Z",
     "shell.execute_reply": "2024-11-22T17:39:33.807474Z"
    },
    "papermill": {
     "duration": 0.04341,
     "end_time": "2024-11-22T17:39:33.811131",
     "exception": false,
     "start_time": "2024-11-22T17:39:33.767721",
     "status": "completed"
    },
    "tags": []
   },
   "outputs": [],
   "source": [
    "train_data = pd.read_csv('/kaggle/input/titanic/train.csv')\n",
    "test_data = pd.read_csv('/kaggle/input/titanic/test.csv')"
   ]
  },
  {
   "cell_type": "markdown",
   "id": "0e31c48b",
   "metadata": {
    "papermill": {
     "duration": 0.005151,
     "end_time": "2024-11-22T17:39:33.821088",
     "exception": false,
     "start_time": "2024-11-22T17:39:33.815937",
     "status": "completed"
    },
    "tags": []
   },
   "source": [
    "# Checking Datasets"
   ]
  },
  {
   "cell_type": "code",
   "execution_count": 4,
   "id": "796cce44",
   "metadata": {
    "execution": {
     "iopub.execute_input": "2024-11-22T17:39:33.831118Z",
     "iopub.status.busy": "2024-11-22T17:39:33.830724Z",
     "iopub.status.idle": "2024-11-22T17:39:33.863104Z",
     "shell.execute_reply": "2024-11-22T17:39:33.862107Z"
    },
    "papermill": {
     "duration": 0.040075,
     "end_time": "2024-11-22T17:39:33.865360",
     "exception": false,
     "start_time": "2024-11-22T17:39:33.825285",
     "status": "completed"
    },
    "tags": []
   },
   "outputs": [
    {
     "data": {
      "text/html": [
       "<div>\n",
       "<style scoped>\n",
       "    .dataframe tbody tr th:only-of-type {\n",
       "        vertical-align: middle;\n",
       "    }\n",
       "\n",
       "    .dataframe tbody tr th {\n",
       "        vertical-align: top;\n",
       "    }\n",
       "\n",
       "    .dataframe thead th {\n",
       "        text-align: right;\n",
       "    }\n",
       "</style>\n",
       "<table border=\"1\" class=\"dataframe\">\n",
       "  <thead>\n",
       "    <tr style=\"text-align: right;\">\n",
       "      <th></th>\n",
       "      <th>PassengerId</th>\n",
       "      <th>Survived</th>\n",
       "      <th>Pclass</th>\n",
       "      <th>Name</th>\n",
       "      <th>Sex</th>\n",
       "      <th>Age</th>\n",
       "      <th>SibSp</th>\n",
       "      <th>Parch</th>\n",
       "      <th>Ticket</th>\n",
       "      <th>Fare</th>\n",
       "      <th>Cabin</th>\n",
       "      <th>Embarked</th>\n",
       "    </tr>\n",
       "  </thead>\n",
       "  <tbody>\n",
       "    <tr>\n",
       "      <th>0</th>\n",
       "      <td>1</td>\n",
       "      <td>0</td>\n",
       "      <td>3</td>\n",
       "      <td>Braund, Mr. Owen Harris</td>\n",
       "      <td>male</td>\n",
       "      <td>22.0</td>\n",
       "      <td>1</td>\n",
       "      <td>0</td>\n",
       "      <td>A/5 21171</td>\n",
       "      <td>7.2500</td>\n",
       "      <td>NaN</td>\n",
       "      <td>S</td>\n",
       "    </tr>\n",
       "    <tr>\n",
       "      <th>1</th>\n",
       "      <td>2</td>\n",
       "      <td>1</td>\n",
       "      <td>1</td>\n",
       "      <td>Cumings, Mrs. John Bradley (Florence Briggs Th...</td>\n",
       "      <td>female</td>\n",
       "      <td>38.0</td>\n",
       "      <td>1</td>\n",
       "      <td>0</td>\n",
       "      <td>PC 17599</td>\n",
       "      <td>71.2833</td>\n",
       "      <td>C85</td>\n",
       "      <td>C</td>\n",
       "    </tr>\n",
       "    <tr>\n",
       "      <th>2</th>\n",
       "      <td>3</td>\n",
       "      <td>1</td>\n",
       "      <td>3</td>\n",
       "      <td>Heikkinen, Miss. Laina</td>\n",
       "      <td>female</td>\n",
       "      <td>26.0</td>\n",
       "      <td>0</td>\n",
       "      <td>0</td>\n",
       "      <td>STON/O2. 3101282</td>\n",
       "      <td>7.9250</td>\n",
       "      <td>NaN</td>\n",
       "      <td>S</td>\n",
       "    </tr>\n",
       "    <tr>\n",
       "      <th>3</th>\n",
       "      <td>4</td>\n",
       "      <td>1</td>\n",
       "      <td>1</td>\n",
       "      <td>Futrelle, Mrs. Jacques Heath (Lily May Peel)</td>\n",
       "      <td>female</td>\n",
       "      <td>35.0</td>\n",
       "      <td>1</td>\n",
       "      <td>0</td>\n",
       "      <td>113803</td>\n",
       "      <td>53.1000</td>\n",
       "      <td>C123</td>\n",
       "      <td>S</td>\n",
       "    </tr>\n",
       "    <tr>\n",
       "      <th>4</th>\n",
       "      <td>5</td>\n",
       "      <td>0</td>\n",
       "      <td>3</td>\n",
       "      <td>Allen, Mr. William Henry</td>\n",
       "      <td>male</td>\n",
       "      <td>35.0</td>\n",
       "      <td>0</td>\n",
       "      <td>0</td>\n",
       "      <td>373450</td>\n",
       "      <td>8.0500</td>\n",
       "      <td>NaN</td>\n",
       "      <td>S</td>\n",
       "    </tr>\n",
       "  </tbody>\n",
       "</table>\n",
       "</div>"
      ],
      "text/plain": [
       "   PassengerId  Survived  Pclass  \\\n",
       "0            1         0       3   \n",
       "1            2         1       1   \n",
       "2            3         1       3   \n",
       "3            4         1       1   \n",
       "4            5         0       3   \n",
       "\n",
       "                                                Name     Sex   Age  SibSp  \\\n",
       "0                            Braund, Mr. Owen Harris    male  22.0      1   \n",
       "1  Cumings, Mrs. John Bradley (Florence Briggs Th...  female  38.0      1   \n",
       "2                             Heikkinen, Miss. Laina  female  26.0      0   \n",
       "3       Futrelle, Mrs. Jacques Heath (Lily May Peel)  female  35.0      1   \n",
       "4                           Allen, Mr. William Henry    male  35.0      0   \n",
       "\n",
       "   Parch            Ticket     Fare Cabin Embarked  \n",
       "0      0         A/5 21171   7.2500   NaN        S  \n",
       "1      0          PC 17599  71.2833   C85        C  \n",
       "2      0  STON/O2. 3101282   7.9250   NaN        S  \n",
       "3      0            113803  53.1000  C123        S  \n",
       "4      0            373450   8.0500   NaN        S  "
      ]
     },
     "metadata": {},
     "output_type": "display_data"
    },
    {
     "data": {
      "text/html": [
       "<div>\n",
       "<style scoped>\n",
       "    .dataframe tbody tr th:only-of-type {\n",
       "        vertical-align: middle;\n",
       "    }\n",
       "\n",
       "    .dataframe tbody tr th {\n",
       "        vertical-align: top;\n",
       "    }\n",
       "\n",
       "    .dataframe thead th {\n",
       "        text-align: right;\n",
       "    }\n",
       "</style>\n",
       "<table border=\"1\" class=\"dataframe\">\n",
       "  <thead>\n",
       "    <tr style=\"text-align: right;\">\n",
       "      <th></th>\n",
       "      <th>PassengerId</th>\n",
       "      <th>Pclass</th>\n",
       "      <th>Name</th>\n",
       "      <th>Sex</th>\n",
       "      <th>Age</th>\n",
       "      <th>SibSp</th>\n",
       "      <th>Parch</th>\n",
       "      <th>Ticket</th>\n",
       "      <th>Fare</th>\n",
       "      <th>Cabin</th>\n",
       "      <th>Embarked</th>\n",
       "    </tr>\n",
       "  </thead>\n",
       "  <tbody>\n",
       "    <tr>\n",
       "      <th>0</th>\n",
       "      <td>892</td>\n",
       "      <td>3</td>\n",
       "      <td>Kelly, Mr. James</td>\n",
       "      <td>male</td>\n",
       "      <td>34.5</td>\n",
       "      <td>0</td>\n",
       "      <td>0</td>\n",
       "      <td>330911</td>\n",
       "      <td>7.8292</td>\n",
       "      <td>NaN</td>\n",
       "      <td>Q</td>\n",
       "    </tr>\n",
       "    <tr>\n",
       "      <th>1</th>\n",
       "      <td>893</td>\n",
       "      <td>3</td>\n",
       "      <td>Wilkes, Mrs. James (Ellen Needs)</td>\n",
       "      <td>female</td>\n",
       "      <td>47.0</td>\n",
       "      <td>1</td>\n",
       "      <td>0</td>\n",
       "      <td>363272</td>\n",
       "      <td>7.0000</td>\n",
       "      <td>NaN</td>\n",
       "      <td>S</td>\n",
       "    </tr>\n",
       "    <tr>\n",
       "      <th>2</th>\n",
       "      <td>894</td>\n",
       "      <td>2</td>\n",
       "      <td>Myles, Mr. Thomas Francis</td>\n",
       "      <td>male</td>\n",
       "      <td>62.0</td>\n",
       "      <td>0</td>\n",
       "      <td>0</td>\n",
       "      <td>240276</td>\n",
       "      <td>9.6875</td>\n",
       "      <td>NaN</td>\n",
       "      <td>Q</td>\n",
       "    </tr>\n",
       "    <tr>\n",
       "      <th>3</th>\n",
       "      <td>895</td>\n",
       "      <td>3</td>\n",
       "      <td>Wirz, Mr. Albert</td>\n",
       "      <td>male</td>\n",
       "      <td>27.0</td>\n",
       "      <td>0</td>\n",
       "      <td>0</td>\n",
       "      <td>315154</td>\n",
       "      <td>8.6625</td>\n",
       "      <td>NaN</td>\n",
       "      <td>S</td>\n",
       "    </tr>\n",
       "    <tr>\n",
       "      <th>4</th>\n",
       "      <td>896</td>\n",
       "      <td>3</td>\n",
       "      <td>Hirvonen, Mrs. Alexander (Helga E Lindqvist)</td>\n",
       "      <td>female</td>\n",
       "      <td>22.0</td>\n",
       "      <td>1</td>\n",
       "      <td>1</td>\n",
       "      <td>3101298</td>\n",
       "      <td>12.2875</td>\n",
       "      <td>NaN</td>\n",
       "      <td>S</td>\n",
       "    </tr>\n",
       "  </tbody>\n",
       "</table>\n",
       "</div>"
      ],
      "text/plain": [
       "   PassengerId  Pclass                                          Name     Sex  \\\n",
       "0          892       3                              Kelly, Mr. James    male   \n",
       "1          893       3              Wilkes, Mrs. James (Ellen Needs)  female   \n",
       "2          894       2                     Myles, Mr. Thomas Francis    male   \n",
       "3          895       3                              Wirz, Mr. Albert    male   \n",
       "4          896       3  Hirvonen, Mrs. Alexander (Helga E Lindqvist)  female   \n",
       "\n",
       "    Age  SibSp  Parch   Ticket     Fare Cabin Embarked  \n",
       "0  34.5      0      0   330911   7.8292   NaN        Q  \n",
       "1  47.0      1      0   363272   7.0000   NaN        S  \n",
       "2  62.0      0      0   240276   9.6875   NaN        Q  \n",
       "3  27.0      0      0   315154   8.6625   NaN        S  \n",
       "4  22.0      1      1  3101298  12.2875   NaN        S  "
      ]
     },
     "metadata": {},
     "output_type": "display_data"
    }
   ],
   "source": [
    "display(train_data.head())\n",
    "display(test_data.head())\n"
   ]
  },
  {
   "cell_type": "markdown",
   "id": "0390132f",
   "metadata": {
    "papermill": {
     "duration": 0.004411,
     "end_time": "2024-11-22T17:39:33.874739",
     "exception": false,
     "start_time": "2024-11-22T17:39:33.870328",
     "status": "completed"
    },
    "tags": []
   },
   "source": [
    "# Data Preprocessing"
   ]
  },
  {
   "cell_type": "markdown",
   "id": "a4ea4e50",
   "metadata": {
    "papermill": {
     "duration": 0.004425,
     "end_time": "2024-11-22T17:39:33.883797",
     "exception": false,
     "start_time": "2024-11-22T17:39:33.879372",
     "status": "completed"
    },
    "tags": []
   },
   "source": [
    "1. Check the number of null or missing values"
   ]
  },
  {
   "cell_type": "code",
   "execution_count": 5,
   "id": "46b455e8",
   "metadata": {
    "execution": {
     "iopub.execute_input": "2024-11-22T17:39:33.894878Z",
     "iopub.status.busy": "2024-11-22T17:39:33.894521Z",
     "iopub.status.idle": "2024-11-22T17:39:33.905363Z",
     "shell.execute_reply": "2024-11-22T17:39:33.904063Z"
    },
    "papermill": {
     "duration": 0.01929,
     "end_time": "2024-11-22T17:39:33.907645",
     "exception": false,
     "start_time": "2024-11-22T17:39:33.888355",
     "status": "completed"
    },
    "tags": []
   },
   "outputs": [
    {
     "name": "stdout",
     "output_type": "stream",
     "text": [
      "PassengerId      0\n",
      "Survived         0\n",
      "Pclass           0\n",
      "Name             0\n",
      "Sex              0\n",
      "Age            177\n",
      "SibSp            0\n",
      "Parch            0\n",
      "Ticket           0\n",
      "Fare             0\n",
      "Cabin          687\n",
      "Embarked         2\n",
      "dtype: int64\n",
      "Test:  PassengerId      0\n",
      "Pclass           0\n",
      "Name             0\n",
      "Sex              0\n",
      "Age             86\n",
      "SibSp            0\n",
      "Parch            0\n",
      "Ticket           0\n",
      "Fare             1\n",
      "Cabin          327\n",
      "Embarked         0\n",
      "dtype: int64\n"
     ]
    }
   ],
   "source": [
    "print(train_data.isnull().sum())\n",
    "print(\"Test: \",test_data.isnull().sum())"
   ]
  },
  {
   "cell_type": "markdown",
   "id": "581e3eb1",
   "metadata": {
    "papermill": {
     "duration": 0.00468,
     "end_time": "2024-11-22T17:39:33.917365",
     "exception": false,
     "start_time": "2024-11-22T17:39:33.912685",
     "status": "completed"
    },
    "tags": []
   },
   "source": [
    "As cabin has many missing values dropping it from both train and test data"
   ]
  },
  {
   "cell_type": "code",
   "execution_count": 6,
   "id": "0c4d7922",
   "metadata": {
    "execution": {
     "iopub.execute_input": "2024-11-22T17:39:33.928449Z",
     "iopub.status.busy": "2024-11-22T17:39:33.928051Z",
     "iopub.status.idle": "2024-11-22T17:39:33.941103Z",
     "shell.execute_reply": "2024-11-22T17:39:33.940042Z"
    },
    "papermill": {
     "duration": 0.021249,
     "end_time": "2024-11-22T17:39:33.943325",
     "exception": false,
     "start_time": "2024-11-22T17:39:33.922076",
     "status": "completed"
    },
    "tags": []
   },
   "outputs": [],
   "source": [
    "train_data.drop(['Cabin'],axis=1,inplace=True)  # axis is added to tell that it is a column and not a row\n",
    "test_data.drop(['Cabin'],axis=1,inplace=True)   # inplace=True modifies train_data directly without needing to assign it back to train_data"
   ]
  },
  {
   "cell_type": "markdown",
   "id": "70213a20",
   "metadata": {
    "papermill": {
     "duration": 0.004676,
     "end_time": "2024-11-22T17:39:33.953134",
     "exception": false,
     "start_time": "2024-11-22T17:39:33.948458",
     "status": "completed"
    },
    "tags": []
   },
   "source": [
    "Taking the median and adding it in the missing places of Age"
   ]
  },
  {
   "cell_type": "code",
   "execution_count": 7,
   "id": "bfe4ebc7",
   "metadata": {
    "execution": {
     "iopub.execute_input": "2024-11-22T17:39:33.964311Z",
     "iopub.status.busy": "2024-11-22T17:39:33.963884Z",
     "iopub.status.idle": "2024-11-22T17:39:33.973865Z",
     "shell.execute_reply": "2024-11-22T17:39:33.972738Z"
    },
    "papermill": {
     "duration": 0.017967,
     "end_time": "2024-11-22T17:39:33.975898",
     "exception": false,
     "start_time": "2024-11-22T17:39:33.957931",
     "status": "completed"
    },
    "tags": []
   },
   "outputs": [
    {
     "name": "stderr",
     "output_type": "stream",
     "text": [
      "/tmp/ipykernel_17/600431010.py:1: FutureWarning: A value is trying to be set on a copy of a DataFrame or Series through chained assignment using an inplace method.\n",
      "The behavior will change in pandas 3.0. This inplace method will never work because the intermediate object on which we are setting values always behaves as a copy.\n",
      "\n",
      "For example, when doing 'df[col].method(value, inplace=True)', try using 'df.method({col: value}, inplace=True)' or df[col] = df[col].method(value) instead, to perform the operation inplace on the original object.\n",
      "\n",
      "\n",
      "  train_data['Age'].fillna(train_data['Age'].median(),inplace=True)\n",
      "/tmp/ipykernel_17/600431010.py:2: FutureWarning: A value is trying to be set on a copy of a DataFrame or Series through chained assignment using an inplace method.\n",
      "The behavior will change in pandas 3.0. This inplace method will never work because the intermediate object on which we are setting values always behaves as a copy.\n",
      "\n",
      "For example, when doing 'df[col].method(value, inplace=True)', try using 'df.method({col: value}, inplace=True)' or df[col] = df[col].method(value) instead, to perform the operation inplace on the original object.\n",
      "\n",
      "\n",
      "  test_data['Age'].fillna(test_data['Age'].median(),inplace=True)\n"
     ]
    }
   ],
   "source": [
    "train_data['Age'].fillna(train_data['Age'].median(),inplace=True)\n",
    "test_data['Age'].fillna(test_data['Age'].median(),inplace=True)"
   ]
  },
  {
   "cell_type": "markdown",
   "id": "5de71e7a",
   "metadata": {
    "papermill": {
     "duration": 0.004889,
     "end_time": "2024-11-22T17:39:33.985975",
     "exception": false,
     "start_time": "2024-11-22T17:39:33.981086",
     "status": "completed"
    },
    "tags": []
   },
   "source": [
    "Change all text columns to number values\n",
    "One-hot encode the text columns using pandas get_dummies\n"
   ]
  },
  {
   "cell_type": "code",
   "execution_count": 8,
   "id": "089c6ee0",
   "metadata": {
    "execution": {
     "iopub.execute_input": "2024-11-22T17:39:33.997810Z",
     "iopub.status.busy": "2024-11-22T17:39:33.996930Z",
     "iopub.status.idle": "2024-11-22T17:39:34.015137Z",
     "shell.execute_reply": "2024-11-22T17:39:34.014077Z"
    },
    "papermill": {
     "duration": 0.026575,
     "end_time": "2024-11-22T17:39:34.017417",
     "exception": false,
     "start_time": "2024-11-22T17:39:33.990842",
     "status": "completed"
    },
    "tags": []
   },
   "outputs": [],
   "source": [
    "train_data = pd.get_dummies(train_data,columns=['Sex','Embarked'], drop_first=True)\n",
    "test_data = pd.get_dummies(test_data,columns=['Sex','Embarked'], drop_first=True)"
   ]
  },
  {
   "cell_type": "code",
   "execution_count": 9,
   "id": "2e3592cc",
   "metadata": {
    "execution": {
     "iopub.execute_input": "2024-11-22T17:39:34.029129Z",
     "iopub.status.busy": "2024-11-22T17:39:34.028690Z",
     "iopub.status.idle": "2024-11-22T17:39:34.036177Z",
     "shell.execute_reply": "2024-11-22T17:39:34.034990Z"
    },
    "papermill": {
     "duration": 0.016485,
     "end_time": "2024-11-22T17:39:34.038991",
     "exception": false,
     "start_time": "2024-11-22T17:39:34.022506",
     "status": "completed"
    },
    "tags": []
   },
   "outputs": [
    {
     "name": "stdout",
     "output_type": "stream",
     "text": [
      "Train: 12\n",
      " Test: 11\n"
     ]
    },
    {
     "name": "stderr",
     "output_type": "stream",
     "text": [
      "/tmp/ipykernel_17/3031759542.py:2: FutureWarning: A value is trying to be set on a copy of a DataFrame or Series through chained assignment using an inplace method.\n",
      "The behavior will change in pandas 3.0. This inplace method will never work because the intermediate object on which we are setting values always behaves as a copy.\n",
      "\n",
      "For example, when doing 'df[col].method(value, inplace=True)', try using 'df.method({col: value}, inplace=True)' or df[col] = df[col].method(value) instead, to perform the operation inplace on the original object.\n",
      "\n",
      "\n",
      "  test_data['Fare'].fillna(test_data['Fare'].median(),inplace=True)\n"
     ]
    }
   ],
   "source": [
    "# filling the missing value for Fare in test_data\n",
    "test_data['Fare'].fillna(test_data['Fare'].median(),inplace=True)\n",
    "print(f\"Train: {len(train_data.columns)}\\n Test: {len(test_data.columns)}\")\n",
    "# Train has Survived as one more column"
   ]
  },
  {
   "cell_type": "markdown",
   "id": "af25fb08",
   "metadata": {
    "papermill": {
     "duration": 0.004821,
     "end_time": "2024-11-22T17:39:34.049294",
     "exception": false,
     "start_time": "2024-11-22T17:39:34.044473",
     "status": "completed"
    },
    "tags": []
   },
   "source": [
    "# Splitting Data"
   ]
  },
  {
   "cell_type": "code",
   "execution_count": 10,
   "id": "f1090ce8",
   "metadata": {
    "execution": {
     "iopub.execute_input": "2024-11-22T17:39:34.060903Z",
     "iopub.status.busy": "2024-11-22T17:39:34.060530Z",
     "iopub.status.idle": "2024-11-22T17:39:34.067728Z",
     "shell.execute_reply": "2024-11-22T17:39:34.066613Z"
    },
    "papermill": {
     "duration": 0.015547,
     "end_time": "2024-11-22T17:39:34.069852",
     "exception": false,
     "start_time": "2024-11-22T17:39:34.054305",
     "status": "completed"
    },
    "tags": []
   },
   "outputs": [],
   "source": [
    "X = train_data.drop(['Name','Survived','Ticket','PassengerId'],axis=1)  # the independent variables or features we are going to use\n",
    "y = train_data['Survived'] # the target variable we are trying to predict\n",
    "\n",
    "X_test = test_data.drop(['Name','Ticket','PassengerId'],axis=1) # the test data of the X data"
   ]
  },
  {
   "cell_type": "markdown",
   "id": "7b1816bd",
   "metadata": {
    "papermill": {
     "duration": 0.0056,
     "end_time": "2024-11-22T17:39:34.080742",
     "exception": false,
     "start_time": "2024-11-22T17:39:34.075142",
     "status": "completed"
    },
    "tags": []
   },
   "source": [
    "# Linear Regression Model"
   ]
  },
  {
   "cell_type": "code",
   "execution_count": 11,
   "id": "35fed9b7",
   "metadata": {
    "execution": {
     "iopub.execute_input": "2024-11-22T17:39:34.093253Z",
     "iopub.status.busy": "2024-11-22T17:39:34.092510Z",
     "iopub.status.idle": "2024-11-22T17:39:35.733049Z",
     "shell.execute_reply": "2024-11-22T17:39:35.731790Z"
    },
    "papermill": {
     "duration": 1.649146,
     "end_time": "2024-11-22T17:39:35.735323",
     "exception": false,
     "start_time": "2024-11-22T17:39:34.086177",
     "status": "completed"
    },
    "tags": []
   },
   "outputs": [
    {
     "name": "stdout",
     "output_type": "stream",
     "text": [
      "Accuracy:  0.7932960893854749\n"
     ]
    }
   ],
   "source": [
    "from sklearn.model_selection import train_test_split\n",
    "from sklearn.linear_model import LinearRegression\n",
    "from sklearn.metrics import accuracy_score\n",
    "\n",
    "X_train,X_val,y_train,y_val = train_test_split(X,y,test_size=0.2,random_state=42)\n",
    "\n",
    "model = LinearRegression()\n",
    "model.fit(X_train,y_train)\n",
    "\n",
    "y_pred = model.predict(X_val)\n",
    "# Convert continuous predictions to binary (0 or 1)\n",
    "y_pred_binary = (y_pred >= 0.5).astype(int)\n",
    "\n",
    "# Evaluate using accuracy_score (classification metric)\n",
    "print(\"Accuracy: \", accuracy_score(y_val, y_pred_binary))"
   ]
  },
  {
   "cell_type": "markdown",
   "id": "d9b633ac",
   "metadata": {
    "papermill": {
     "duration": 0.005064,
     "end_time": "2024-11-22T17:39:35.745582",
     "exception": false,
     "start_time": "2024-11-22T17:39:35.740518",
     "status": "completed"
    },
    "tags": []
   },
   "source": [
    "Predictions"
   ]
  },
  {
   "cell_type": "code",
   "execution_count": 12,
   "id": "ba38a819",
   "metadata": {
    "execution": {
     "iopub.execute_input": "2024-11-22T17:39:35.758541Z",
     "iopub.status.busy": "2024-11-22T17:39:35.757614Z",
     "iopub.status.idle": "2024-11-22T17:39:35.768161Z",
     "shell.execute_reply": "2024-11-22T17:39:35.767347Z"
    },
    "papermill": {
     "duration": 0.019222,
     "end_time": "2024-11-22T17:39:35.770166",
     "exception": false,
     "start_time": "2024-11-22T17:39:35.750944",
     "status": "completed"
    },
    "tags": []
   },
   "outputs": [],
   "source": [
    "predictions = (model.predict(X_test) >= 0.5).astype(int)    # as linear regression is not a classsification model\n",
    "\n",
    "# Saving to submission file\n",
    "submission = pd.DataFrame({'PassengerId': test_data['PassengerId'],'Survived':predictions})\n",
    "\n",
    "submission.to_csv('submission.csv',index=False)"
   ]
  }
 ],
 "metadata": {
  "kaggle": {
   "accelerator": "none",
   "dataSources": [
    {
     "datasetId": 6136464,
     "sourceId": 9973794,
     "sourceType": "datasetVersion"
    }
   ],
   "dockerImageVersionId": 30786,
   "isGpuEnabled": false,
   "isInternetEnabled": true,
   "language": "python",
   "sourceType": "notebook"
  },
  "kernelspec": {
   "display_name": "Python 3",
   "language": "python",
   "name": "python3"
  },
  "language_info": {
   "codemirror_mode": {
    "name": "ipython",
    "version": 3
   },
   "file_extension": ".py",
   "mimetype": "text/x-python",
   "name": "python",
   "nbconvert_exporter": "python",
   "pygments_lexer": "ipython3",
   "version": "3.10.14"
  },
  "papermill": {
   "default_parameters": {},
   "duration": 6.307508,
   "end_time": "2024-11-22T17:39:36.396335",
   "environment_variables": {},
   "exception": null,
   "input_path": "__notebook__.ipynb",
   "output_path": "__notebook__.ipynb",
   "parameters": {},
   "start_time": "2024-11-22T17:39:30.088827",
   "version": "2.6.0"
  }
 },
 "nbformat": 4,
 "nbformat_minor": 5
}
